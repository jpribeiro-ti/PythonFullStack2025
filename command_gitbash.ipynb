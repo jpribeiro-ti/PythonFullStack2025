{
 "cells": [
  {
   "cell_type": "code",
   "execution_count": null,
   "metadata": {},
   "outputs": [],
   "source": [
    "git clone\n",
    "\n",
    "cd PythonFullStack2025\n",
    "\n",
    "ls\n",
    "\n",
    "git add teste.docx\n",
    "\n",
    "git commit -m \"Teste\"\n",
    "\n",
    "git push origin main\n",
    "\n",
    "git status\n",
    "\n",
    "exit\n",
    "\n",
    "history\n",
    "\n",
    "https://dontpad.com/python2025NI\n",
    "https://github.com/KlemDoug/PythonFullStack2025\n",
    "\n",
    "Instalar -> Node.js\n",
    "https://nodejs.org/en\n",
    "Instalar a versão LTS\n",
    "\n",
    "PYTHON: PIP (python installation package)\n",
    "\n",
    "JAVASCRIPT: NPM (node package manager)\n",
    "\n",
    "node nome do arquivo\n",
    "caso não funciona no vs Code, rode pelo prompt de comando\n",
    "copia o endereço do diretório e cola no terminal\n",
    "cd C:\\Users\\169129532025.1\\Documents\\UC1\\PythonFullStack2025, aperta o enter\n",
    "Em seguida node nome do arquivo\n",
    "\n",
    "\n",
    "chatpgpt | gemini | copilot | blackbox.ai | claude.ai | deep seek | qwen"
   ]
  }
 ],
 "metadata": {
  "language_info": {
   "name": "python"
  },
  "orig_nbformat": 4
 },
 "nbformat": 4,
 "nbformat_minor": 2
}
